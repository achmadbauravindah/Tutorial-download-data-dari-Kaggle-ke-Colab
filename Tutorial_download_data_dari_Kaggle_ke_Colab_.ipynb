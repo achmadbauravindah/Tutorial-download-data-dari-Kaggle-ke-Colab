{
  "nbformat": 4,
  "nbformat_minor": 0,
  "metadata": {
    "colab": {
      "name": "Tutorial download data dari Kaggle ke Colab .ipynb",
      "provenance": [],
      "collapsed_sections": [],
      "authorship_tag": "ABX9TyNnWAlqLuLddeWitifVtYuY",
      "include_colab_link": true
    },
    "kernelspec": {
      "name": "python3",
      "display_name": "Python 3"
    },
    "language_info": {
      "name": "python"
    },
    "accelerator": "GPU",
    "gpuClass": "standard"
  },
  "cells": [
    {
      "cell_type": "markdown",
      "metadata": {
        "id": "view-in-github",
        "colab_type": "text"
      },
      "source": [
        "<a href=\"https://colab.research.google.com/github/achmadbauravindah/Tutorial-download-data-dari-Kaggle-ke-Colab/blob/main/Tutorial_download_data_dari_Kaggle_ke_Colab_.ipynb\" target=\"_parent\"><img src=\"https://colab.research.google.com/assets/colab-badge.svg\" alt=\"Open In Colab\"/></a>"
      ]
    },
    {
      "cell_type": "code",
      "execution_count": 2,
      "metadata": {
        "id": "681OpvhOVDUq"
      },
      "outputs": [],
      "source": [
        "_ = ! git clone https://github.com/achmadbauravindah/ravin_kaggle_credential.git # get credential from kaggle\n",
        "_ = ! pip install kaggle # install kaggle on drevice\n",
        "_ = ! mkdir ~/.kaggle # make hidden folder .kaggle to configure credential\n",
        "_ = ! cp ravin_kaggle_credential/kaggle.json ~/.kaggle/ # copy credential from github to .kaggle folder\n",
        "_ = ! chmod 600 ~/.kaggle/kaggle.json # change access\n",
        "_ = ! kaggle datasets download orl-datasets # which dataset to download\n",
        "_ = ! unzip orl-datasets # unzip if data zipped"
      ]
    }
  ]
}